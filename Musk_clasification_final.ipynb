{
 "cells": [
  {
   "cell_type": "markdown",
   "metadata": {},
   "source": [
    "# MUSK & NON-MUSK CLASSIFICATION"
   ]
  },
  {
   "cell_type": "code",
   "execution_count": 21,
   "metadata": {},
   "outputs": [],
   "source": [
    "import pandas as pd\n",
    "import numpy as np\n",
    "import keras\n",
    "from sklearn.model_selection import train_test_split\n",
    "from keras.models import Sequential\n",
    "from keras.layers import Dense,Dropout\n",
    "from keras.optimizers import Adam\n",
    "from sklearn.metrics import f1_score, precision_score, recall_score"
   ]
  },
  {
   "cell_type": "code",
   "execution_count": 22,
   "metadata": {},
   "outputs": [
    {
     "data": {
      "text/html": [
       "<div>\n",
       "<style scoped>\n",
       "    .dataframe tbody tr th:only-of-type {\n",
       "        vertical-align: middle;\n",
       "    }\n",
       "\n",
       "    .dataframe tbody tr th {\n",
       "        vertical-align: top;\n",
       "    }\n",
       "\n",
       "    .dataframe thead th {\n",
       "        text-align: right;\n",
       "    }\n",
       "</style>\n",
       "<table border=\"1\" class=\"dataframe\">\n",
       "  <thead>\n",
       "    <tr style=\"text-align: right;\">\n",
       "      <th></th>\n",
       "      <th>ID</th>\n",
       "      <th>molecule_name</th>\n",
       "      <th>conformation_name</th>\n",
       "      <th>f1</th>\n",
       "      <th>f2</th>\n",
       "      <th>f3</th>\n",
       "      <th>f4</th>\n",
       "      <th>f5</th>\n",
       "      <th>f6</th>\n",
       "      <th>f7</th>\n",
       "      <th>...</th>\n",
       "      <th>f158</th>\n",
       "      <th>f159</th>\n",
       "      <th>f160</th>\n",
       "      <th>f161</th>\n",
       "      <th>f162</th>\n",
       "      <th>f163</th>\n",
       "      <th>f164</th>\n",
       "      <th>f165</th>\n",
       "      <th>f166</th>\n",
       "      <th>class</th>\n",
       "    </tr>\n",
       "  </thead>\n",
       "  <tbody>\n",
       "    <tr>\n",
       "      <th>0</th>\n",
       "      <td>1</td>\n",
       "      <td>MUSK-211</td>\n",
       "      <td>211_1+1</td>\n",
       "      <td>46</td>\n",
       "      <td>-108</td>\n",
       "      <td>-60</td>\n",
       "      <td>-69</td>\n",
       "      <td>-117</td>\n",
       "      <td>49</td>\n",
       "      <td>38</td>\n",
       "      <td>...</td>\n",
       "      <td>-308</td>\n",
       "      <td>52</td>\n",
       "      <td>-7</td>\n",
       "      <td>39</td>\n",
       "      <td>126</td>\n",
       "      <td>156</td>\n",
       "      <td>-50</td>\n",
       "      <td>-112</td>\n",
       "      <td>96</td>\n",
       "      <td>1</td>\n",
       "    </tr>\n",
       "    <tr>\n",
       "      <th>1</th>\n",
       "      <td>2</td>\n",
       "      <td>MUSK-211</td>\n",
       "      <td>211_1+10</td>\n",
       "      <td>41</td>\n",
       "      <td>-188</td>\n",
       "      <td>-145</td>\n",
       "      <td>22</td>\n",
       "      <td>-117</td>\n",
       "      <td>-6</td>\n",
       "      <td>57</td>\n",
       "      <td>...</td>\n",
       "      <td>-59</td>\n",
       "      <td>-2</td>\n",
       "      <td>52</td>\n",
       "      <td>103</td>\n",
       "      <td>136</td>\n",
       "      <td>169</td>\n",
       "      <td>-61</td>\n",
       "      <td>-136</td>\n",
       "      <td>79</td>\n",
       "      <td>1</td>\n",
       "    </tr>\n",
       "    <tr>\n",
       "      <th>2</th>\n",
       "      <td>3</td>\n",
       "      <td>MUSK-211</td>\n",
       "      <td>211_1+11</td>\n",
       "      <td>46</td>\n",
       "      <td>-194</td>\n",
       "      <td>-145</td>\n",
       "      <td>28</td>\n",
       "      <td>-117</td>\n",
       "      <td>73</td>\n",
       "      <td>57</td>\n",
       "      <td>...</td>\n",
       "      <td>-134</td>\n",
       "      <td>-154</td>\n",
       "      <td>57</td>\n",
       "      <td>143</td>\n",
       "      <td>142</td>\n",
       "      <td>165</td>\n",
       "      <td>-67</td>\n",
       "      <td>-145</td>\n",
       "      <td>39</td>\n",
       "      <td>1</td>\n",
       "    </tr>\n",
       "    <tr>\n",
       "      <th>3</th>\n",
       "      <td>4</td>\n",
       "      <td>MUSK-211</td>\n",
       "      <td>211_1+12</td>\n",
       "      <td>41</td>\n",
       "      <td>-188</td>\n",
       "      <td>-145</td>\n",
       "      <td>22</td>\n",
       "      <td>-117</td>\n",
       "      <td>-7</td>\n",
       "      <td>57</td>\n",
       "      <td>...</td>\n",
       "      <td>-60</td>\n",
       "      <td>-4</td>\n",
       "      <td>52</td>\n",
       "      <td>104</td>\n",
       "      <td>136</td>\n",
       "      <td>168</td>\n",
       "      <td>-60</td>\n",
       "      <td>-135</td>\n",
       "      <td>80</td>\n",
       "      <td>1</td>\n",
       "    </tr>\n",
       "    <tr>\n",
       "      <th>4</th>\n",
       "      <td>5</td>\n",
       "      <td>MUSK-211</td>\n",
       "      <td>211_1+13</td>\n",
       "      <td>41</td>\n",
       "      <td>-188</td>\n",
       "      <td>-145</td>\n",
       "      <td>22</td>\n",
       "      <td>-117</td>\n",
       "      <td>-7</td>\n",
       "      <td>57</td>\n",
       "      <td>...</td>\n",
       "      <td>-60</td>\n",
       "      <td>-4</td>\n",
       "      <td>52</td>\n",
       "      <td>104</td>\n",
       "      <td>137</td>\n",
       "      <td>168</td>\n",
       "      <td>-60</td>\n",
       "      <td>-135</td>\n",
       "      <td>80</td>\n",
       "      <td>1</td>\n",
       "    </tr>\n",
       "  </tbody>\n",
       "</table>\n",
       "<p>5 rows × 170 columns</p>\n",
       "</div>"
      ],
      "text/plain": [
       "   ID molecule_name conformation_name  f1   f2   f3  f4   f5  f6  f7  ...  \\\n",
       "0   1      MUSK-211           211_1+1  46 -108  -60 -69 -117  49  38  ...   \n",
       "1   2      MUSK-211          211_1+10  41 -188 -145  22 -117  -6  57  ...   \n",
       "2   3      MUSK-211          211_1+11  46 -194 -145  28 -117  73  57  ...   \n",
       "3   4      MUSK-211          211_1+12  41 -188 -145  22 -117  -7  57  ...   \n",
       "4   5      MUSK-211          211_1+13  41 -188 -145  22 -117  -7  57  ...   \n",
       "\n",
       "   f158  f159  f160  f161  f162  f163  f164  f165  f166  class  \n",
       "0  -308    52    -7    39   126   156   -50  -112    96      1  \n",
       "1   -59    -2    52   103   136   169   -61  -136    79      1  \n",
       "2  -134  -154    57   143   142   165   -67  -145    39      1  \n",
       "3   -60    -4    52   104   136   168   -60  -135    80      1  \n",
       "4   -60    -4    52   104   137   168   -60  -135    80      1  \n",
       "\n",
       "[5 rows x 170 columns]"
      ]
     },
     "execution_count": 22,
     "metadata": {},
     "output_type": "execute_result"
    }
   ],
   "source": [
    "df = pd.read_csv(\"musk_csv.csv\")\n",
    "df.head()"
   ]
  },
  {
   "cell_type": "code",
   "execution_count": 23,
   "metadata": {},
   "outputs": [
    {
     "data": {
      "text/plain": [
       "(6598, 170)"
      ]
     },
     "execution_count": 23,
     "metadata": {},
     "output_type": "execute_result"
    }
   ],
   "source": [
    "df.shape"
   ]
  },
  {
   "cell_type": "code",
   "execution_count": 24,
   "metadata": {},
   "outputs": [],
   "source": [
    "#df.duplicated().count"
   ]
  },
  {
   "cell_type": "code",
   "execution_count": 25,
   "metadata": {},
   "outputs": [
    {
     "data": {
      "text/plain": [
       "Index(['ID', 'molecule_name', 'conformation_name', 'f1', 'f2', 'f3', 'f4',\n",
       "       'f5', 'f6', 'f7',\n",
       "       ...\n",
       "       'f158', 'f159', 'f160', 'f161', 'f162', 'f163', 'f164', 'f165', 'f166',\n",
       "       'class'],\n",
       "      dtype='object', length=170)"
      ]
     },
     "execution_count": 25,
     "metadata": {},
     "output_type": "execute_result"
    }
   ],
   "source": [
    "df.columns"
   ]
  },
  {
   "cell_type": "code",
   "execution_count": 26,
   "metadata": {},
   "outputs": [
    {
     "data": {
      "text/plain": [
       "0    5581\n",
       "1    1017\n",
       "Name: class, dtype: int64"
      ]
     },
     "execution_count": 26,
     "metadata": {},
     "output_type": "execute_result"
    }
   ],
   "source": [
    "df[\"class\"].value_counts()"
   ]
  },
  {
   "cell_type": "code",
   "execution_count": 27,
   "metadata": {},
   "outputs": [
    {
     "data": {
      "text/html": [
       "<div>\n",
       "<style scoped>\n",
       "    .dataframe tbody tr th:only-of-type {\n",
       "        vertical-align: middle;\n",
       "    }\n",
       "\n",
       "    .dataframe tbody tr th {\n",
       "        vertical-align: top;\n",
       "    }\n",
       "\n",
       "    .dataframe thead th {\n",
       "        text-align: right;\n",
       "    }\n",
       "</style>\n",
       "<table border=\"1\" class=\"dataframe\">\n",
       "  <thead>\n",
       "    <tr style=\"text-align: right;\">\n",
       "      <th></th>\n",
       "      <th>f1</th>\n",
       "      <th>f2</th>\n",
       "      <th>f3</th>\n",
       "      <th>f4</th>\n",
       "      <th>f5</th>\n",
       "      <th>f6</th>\n",
       "      <th>f7</th>\n",
       "      <th>f8</th>\n",
       "      <th>f9</th>\n",
       "      <th>f10</th>\n",
       "      <th>...</th>\n",
       "      <th>f158</th>\n",
       "      <th>f159</th>\n",
       "      <th>f160</th>\n",
       "      <th>f161</th>\n",
       "      <th>f162</th>\n",
       "      <th>f163</th>\n",
       "      <th>f164</th>\n",
       "      <th>f165</th>\n",
       "      <th>f166</th>\n",
       "      <th>class</th>\n",
       "    </tr>\n",
       "  </thead>\n",
       "  <tbody>\n",
       "    <tr>\n",
       "      <th>0</th>\n",
       "      <td>46</td>\n",
       "      <td>-108</td>\n",
       "      <td>-60</td>\n",
       "      <td>-69</td>\n",
       "      <td>-117</td>\n",
       "      <td>49</td>\n",
       "      <td>38</td>\n",
       "      <td>-161</td>\n",
       "      <td>-8</td>\n",
       "      <td>5</td>\n",
       "      <td>...</td>\n",
       "      <td>-308</td>\n",
       "      <td>52</td>\n",
       "      <td>-7</td>\n",
       "      <td>39</td>\n",
       "      <td>126</td>\n",
       "      <td>156</td>\n",
       "      <td>-50</td>\n",
       "      <td>-112</td>\n",
       "      <td>96</td>\n",
       "      <td>1</td>\n",
       "    </tr>\n",
       "    <tr>\n",
       "      <th>1</th>\n",
       "      <td>41</td>\n",
       "      <td>-188</td>\n",
       "      <td>-145</td>\n",
       "      <td>22</td>\n",
       "      <td>-117</td>\n",
       "      <td>-6</td>\n",
       "      <td>57</td>\n",
       "      <td>-171</td>\n",
       "      <td>-39</td>\n",
       "      <td>-100</td>\n",
       "      <td>...</td>\n",
       "      <td>-59</td>\n",
       "      <td>-2</td>\n",
       "      <td>52</td>\n",
       "      <td>103</td>\n",
       "      <td>136</td>\n",
       "      <td>169</td>\n",
       "      <td>-61</td>\n",
       "      <td>-136</td>\n",
       "      <td>79</td>\n",
       "      <td>1</td>\n",
       "    </tr>\n",
       "    <tr>\n",
       "      <th>2</th>\n",
       "      <td>46</td>\n",
       "      <td>-194</td>\n",
       "      <td>-145</td>\n",
       "      <td>28</td>\n",
       "      <td>-117</td>\n",
       "      <td>73</td>\n",
       "      <td>57</td>\n",
       "      <td>-168</td>\n",
       "      <td>-39</td>\n",
       "      <td>-22</td>\n",
       "      <td>...</td>\n",
       "      <td>-134</td>\n",
       "      <td>-154</td>\n",
       "      <td>57</td>\n",
       "      <td>143</td>\n",
       "      <td>142</td>\n",
       "      <td>165</td>\n",
       "      <td>-67</td>\n",
       "      <td>-145</td>\n",
       "      <td>39</td>\n",
       "      <td>1</td>\n",
       "    </tr>\n",
       "    <tr>\n",
       "      <th>3</th>\n",
       "      <td>41</td>\n",
       "      <td>-188</td>\n",
       "      <td>-145</td>\n",
       "      <td>22</td>\n",
       "      <td>-117</td>\n",
       "      <td>-7</td>\n",
       "      <td>57</td>\n",
       "      <td>-170</td>\n",
       "      <td>-39</td>\n",
       "      <td>-99</td>\n",
       "      <td>...</td>\n",
       "      <td>-60</td>\n",
       "      <td>-4</td>\n",
       "      <td>52</td>\n",
       "      <td>104</td>\n",
       "      <td>136</td>\n",
       "      <td>168</td>\n",
       "      <td>-60</td>\n",
       "      <td>-135</td>\n",
       "      <td>80</td>\n",
       "      <td>1</td>\n",
       "    </tr>\n",
       "    <tr>\n",
       "      <th>4</th>\n",
       "      <td>41</td>\n",
       "      <td>-188</td>\n",
       "      <td>-145</td>\n",
       "      <td>22</td>\n",
       "      <td>-117</td>\n",
       "      <td>-7</td>\n",
       "      <td>57</td>\n",
       "      <td>-170</td>\n",
       "      <td>-39</td>\n",
       "      <td>-99</td>\n",
       "      <td>...</td>\n",
       "      <td>-60</td>\n",
       "      <td>-4</td>\n",
       "      <td>52</td>\n",
       "      <td>104</td>\n",
       "      <td>137</td>\n",
       "      <td>168</td>\n",
       "      <td>-60</td>\n",
       "      <td>-135</td>\n",
       "      <td>80</td>\n",
       "      <td>1</td>\n",
       "    </tr>\n",
       "  </tbody>\n",
       "</table>\n",
       "<p>5 rows × 167 columns</p>\n",
       "</div>"
      ],
      "text/plain": [
       "   f1   f2   f3  f4   f5  f6  f7   f8  f9  f10  ...  f158  f159  f160  f161  \\\n",
       "0  46 -108  -60 -69 -117  49  38 -161  -8    5  ...  -308    52    -7    39   \n",
       "1  41 -188 -145  22 -117  -6  57 -171 -39 -100  ...   -59    -2    52   103   \n",
       "2  46 -194 -145  28 -117  73  57 -168 -39  -22  ...  -134  -154    57   143   \n",
       "3  41 -188 -145  22 -117  -7  57 -170 -39  -99  ...   -60    -4    52   104   \n",
       "4  41 -188 -145  22 -117  -7  57 -170 -39  -99  ...   -60    -4    52   104   \n",
       "\n",
       "   f162  f163  f164  f165  f166  class  \n",
       "0   126   156   -50  -112    96      1  \n",
       "1   136   169   -61  -136    79      1  \n",
       "2   142   165   -67  -145    39      1  \n",
       "3   136   168   -60  -135    80      1  \n",
       "4   137   168   -60  -135    80      1  \n",
       "\n",
       "[5 rows x 167 columns]"
      ]
     },
     "execution_count": 27,
     "metadata": {},
     "output_type": "execute_result"
    }
   ],
   "source": [
    "df = df.drop(columns=[\"ID\",\"molecule_name\",\"conformation_name\"])\n",
    "df.head()"
   ]
  },
  {
   "cell_type": "code",
   "execution_count": 28,
   "metadata": {},
   "outputs": [],
   "source": [
    "#df.sample(frac=1)"
   ]
  },
  {
   "cell_type": "code",
   "execution_count": 29,
   "metadata": {},
   "outputs": [],
   "source": [
    "#X = df.drop(\"class\",1)\n",
    "#y = df[\"class\"]\n",
    "\n",
    "X = df.iloc[:,0:166]\n",
    "y = df.iloc[:,166]"
   ]
  },
  {
   "cell_type": "code",
   "execution_count": 30,
   "metadata": {},
   "outputs": [],
   "source": [
    "from sklearn.model_selection import train_test_split\n",
    "x_train,x_test,y_train,y_test = train_test_split(X,y,test_size=0.2)"
   ]
  },
  {
   "cell_type": "markdown",
   "metadata": {},
   "source": [
    "# NEURAL NETWORK"
   ]
  },
  {
   "cell_type": "code",
   "execution_count": 31,
   "metadata": {},
   "outputs": [],
   "source": [
    "model = Sequential()\n",
    "model.add(Dense(128,input_dim = 166,activation =\"relu\"))\n",
    "model.add(Dense(64,activation=\"relu\"))\n",
    "model.add(Dense(32,activation =\"relu\"))\n",
    "model.add(Dropout(.2))\n",
    "model.add(Dense(1,activation = \"sigmoid\"))"
   ]
  },
  {
   "cell_type": "code",
   "execution_count": 32,
   "metadata": {},
   "outputs": [],
   "source": [
    "model.compile(loss = \"binary_crossentropy\",optimizer = \"adam\",metrics=[\"accuracy\"])"
   ]
  },
  {
   "cell_type": "code",
   "execution_count": 33,
   "metadata": {},
   "outputs": [
    {
     "name": "stdout",
     "output_type": "stream",
     "text": [
      "Epoch 1/100\n",
      "165/165 [==============================] - 0s 2ms/step - loss: 2.7385 - accuracy: 0.8520 - val_loss: 0.2934 - val_accuracy: 0.9182\n",
      "Epoch 2/100\n",
      "165/165 [==============================] - 0s 1ms/step - loss: 0.2656 - accuracy: 0.9104 - val_loss: 0.1721 - val_accuracy: 0.9273\n",
      "Epoch 3/100\n",
      "165/165 [==============================] - 0s 1ms/step - loss: 0.2280 - accuracy: 0.9153 - val_loss: 0.2266 - val_accuracy: 0.9114\n",
      "Epoch 4/100\n",
      "165/165 [==============================] - 0s 1ms/step - loss: 0.1744 - accuracy: 0.9274 - val_loss: 0.1764 - val_accuracy: 0.9356\n",
      "Epoch 5/100\n",
      "165/165 [==============================] - 0s 1ms/step - loss: 0.1321 - accuracy: 0.9418 - val_loss: 0.1239 - val_accuracy: 0.9538\n",
      "Epoch 6/100\n",
      "165/165 [==============================] - 0s 1ms/step - loss: 0.1264 - accuracy: 0.9449 - val_loss: 0.1266 - val_accuracy: 0.9530\n",
      "Epoch 7/100\n",
      "165/165 [==============================] - 0s 1ms/step - loss: 0.1144 - accuracy: 0.9530 - val_loss: 0.1344 - val_accuracy: 0.9379\n",
      "Epoch 8/100\n",
      "165/165 [==============================] - 0s 1ms/step - loss: 0.0900 - accuracy: 0.9591 - val_loss: 0.1528 - val_accuracy: 0.9500\n",
      "Epoch 9/100\n",
      "165/165 [==============================] - 0s 1ms/step - loss: 0.0937 - accuracy: 0.9557 - val_loss: 0.1396 - val_accuracy: 0.9462\n",
      "Epoch 10/100\n",
      "165/165 [==============================] - 0s 1ms/step - loss: 0.1012 - accuracy: 0.9583 - val_loss: 0.0853 - val_accuracy: 0.9705\n",
      "Epoch 11/100\n",
      "165/165 [==============================] - 0s 1ms/step - loss: 0.0983 - accuracy: 0.9606 - val_loss: 0.0925 - val_accuracy: 0.9606\n",
      "Epoch 12/100\n",
      "165/165 [==============================] - 0s 1ms/step - loss: 0.0698 - accuracy: 0.9697 - val_loss: 0.0942 - val_accuracy: 0.9697\n",
      "Epoch 13/100\n",
      "165/165 [==============================] - 0s 1ms/step - loss: 0.0716 - accuracy: 0.9712 - val_loss: 0.0758 - val_accuracy: 0.9758\n",
      "Epoch 14/100\n",
      "165/165 [==============================] - 0s 1ms/step - loss: 0.0716 - accuracy: 0.9676 - val_loss: 0.0810 - val_accuracy: 0.9636\n",
      "Epoch 15/100\n",
      "165/165 [==============================] - 0s 1ms/step - loss: 0.0758 - accuracy: 0.9739 - val_loss: 0.0782 - val_accuracy: 0.9773\n",
      "Epoch 16/100\n",
      "165/165 [==============================] - 0s 1ms/step - loss: 0.0664 - accuracy: 0.9752 - val_loss: 0.0986 - val_accuracy: 0.9765\n",
      "Epoch 17/100\n",
      "165/165 [==============================] - 0s 1ms/step - loss: 0.0542 - accuracy: 0.9775 - val_loss: 0.0800 - val_accuracy: 0.9735\n",
      "Epoch 18/100\n",
      "165/165 [==============================] - 0s 1ms/step - loss: 0.0764 - accuracy: 0.9729 - val_loss: 0.0774 - val_accuracy: 0.9788\n",
      "Epoch 19/100\n",
      "165/165 [==============================] - 0s 1ms/step - loss: 0.0574 - accuracy: 0.9790 - val_loss: 0.0678 - val_accuracy: 0.9833\n",
      "Epoch 20/100\n",
      "165/165 [==============================] - 0s 1ms/step - loss: 0.0438 - accuracy: 0.9818 - val_loss: 0.0546 - val_accuracy: 0.9848\n",
      "Epoch 21/100\n",
      "165/165 [==============================] - 0s 1ms/step - loss: 0.0335 - accuracy: 0.9867 - val_loss: 0.1001 - val_accuracy: 0.9773\n",
      "Epoch 22/100\n",
      "165/165 [==============================] - 0s 1ms/step - loss: 0.0527 - accuracy: 0.9782 - val_loss: 0.0667 - val_accuracy: 0.9826\n",
      "Epoch 23/100\n",
      "165/165 [==============================] - 0s 1ms/step - loss: 0.0341 - accuracy: 0.9856 - val_loss: 0.0475 - val_accuracy: 0.9871\n",
      "Epoch 24/100\n",
      "165/165 [==============================] - 0s 1ms/step - loss: 0.0313 - accuracy: 0.9877 - val_loss: 0.0464 - val_accuracy: 0.9856\n",
      "Epoch 25/100\n",
      "165/165 [==============================] - 0s 1ms/step - loss: 0.0244 - accuracy: 0.9896 - val_loss: 0.0622 - val_accuracy: 0.9841\n",
      "Epoch 26/100\n",
      "165/165 [==============================] - 0s 1ms/step - loss: 0.0913 - accuracy: 0.9729 - val_loss: 0.0591 - val_accuracy: 0.9818\n",
      "Epoch 27/100\n",
      "165/165 [==============================] - 0s 1ms/step - loss: 0.0352 - accuracy: 0.9865 - val_loss: 0.0593 - val_accuracy: 0.9864\n",
      "Epoch 28/100\n",
      "165/165 [==============================] - 0s 1ms/step - loss: 0.0430 - accuracy: 0.9837 - val_loss: 0.0581 - val_accuracy: 0.9856\n",
      "Epoch 29/100\n",
      "165/165 [==============================] - 0s 1ms/step - loss: 0.0385 - accuracy: 0.9865 - val_loss: 0.0385 - val_accuracy: 0.9833\n",
      "Epoch 30/100\n",
      "165/165 [==============================] - 0s 1ms/step - loss: 0.0227 - accuracy: 0.9915 - val_loss: 0.0512 - val_accuracy: 0.9871\n",
      "Epoch 31/100\n",
      "165/165 [==============================] - 0s 1ms/step - loss: 0.0439 - accuracy: 0.9848 - val_loss: 0.0563 - val_accuracy: 0.9818\n",
      "Epoch 32/100\n",
      "165/165 [==============================] - 0s 1ms/step - loss: 0.0298 - accuracy: 0.9898 - val_loss: 0.0807 - val_accuracy: 0.9811\n",
      "Epoch 33/100\n",
      "165/165 [==============================] - 0s 1ms/step - loss: 0.0390 - accuracy: 0.9883 - val_loss: 0.0610 - val_accuracy: 0.9848\n",
      "Epoch 34/100\n",
      "165/165 [==============================] - 0s 1ms/step - loss: 0.0240 - accuracy: 0.9903 - val_loss: 0.0572 - val_accuracy: 0.9864\n",
      "Epoch 35/100\n",
      "165/165 [==============================] - 0s 1ms/step - loss: 0.0281 - accuracy: 0.9898 - val_loss: 0.0551 - val_accuracy: 0.9795\n",
      "Epoch 36/100\n",
      "165/165 [==============================] - 0s 1ms/step - loss: 0.0303 - accuracy: 0.9890 - val_loss: 0.0459 - val_accuracy: 0.9833\n",
      "Epoch 37/100\n",
      "165/165 [==============================] - 0s 1ms/step - loss: 0.0544 - accuracy: 0.9799 - val_loss: 0.0369 - val_accuracy: 0.9848\n",
      "Epoch 38/100\n",
      "165/165 [==============================] - 0s 1ms/step - loss: 0.0179 - accuracy: 0.9930 - val_loss: 0.0632 - val_accuracy: 0.9818\n",
      "Epoch 39/100\n",
      "165/165 [==============================] - 0s 1ms/step - loss: 0.0292 - accuracy: 0.9901 - val_loss: 0.0475 - val_accuracy: 0.9886\n",
      "Epoch 40/100\n",
      "165/165 [==============================] - 0s 1ms/step - loss: 0.0109 - accuracy: 0.9966 - val_loss: 0.0490 - val_accuracy: 0.9909\n",
      "Epoch 41/100\n",
      "165/165 [==============================] - 0s 1ms/step - loss: 0.0519 - accuracy: 0.9883 - val_loss: 0.1351 - val_accuracy: 0.9689\n",
      "Epoch 42/100\n",
      "165/165 [==============================] - 0s 1ms/step - loss: 0.0436 - accuracy: 0.9877 - val_loss: 0.0655 - val_accuracy: 0.9795\n",
      "Epoch 43/100\n",
      "165/165 [==============================] - 0s 1ms/step - loss: 0.0157 - accuracy: 0.9936 - val_loss: 0.0365 - val_accuracy: 0.9871\n",
      "Epoch 44/100\n",
      "165/165 [==============================] - 0s 1ms/step - loss: 0.0206 - accuracy: 0.9936 - val_loss: 0.0400 - val_accuracy: 0.9902\n",
      "Epoch 45/100\n",
      "165/165 [==============================] - 0s 1ms/step - loss: 0.0205 - accuracy: 0.9924 - val_loss: 0.0377 - val_accuracy: 0.9924\n",
      "Epoch 46/100\n",
      "165/165 [==============================] - 0s 1ms/step - loss: 0.0065 - accuracy: 0.9985 - val_loss: 0.0642 - val_accuracy: 0.9879\n",
      "Epoch 47/100\n",
      "165/165 [==============================] - 0s 1ms/step - loss: 0.0257 - accuracy: 0.9919 - val_loss: 0.0670 - val_accuracy: 0.9848\n",
      "Epoch 48/100\n",
      "165/165 [==============================] - 0s 1ms/step - loss: 0.0201 - accuracy: 0.9945 - val_loss: 0.0374 - val_accuracy: 0.9924\n",
      "Epoch 49/100\n",
      "165/165 [==============================] - 0s 1ms/step - loss: 0.0099 - accuracy: 0.9970 - val_loss: 0.0678 - val_accuracy: 0.9879\n",
      "Epoch 50/100\n",
      "165/165 [==============================] - 0s 1ms/step - loss: 0.0139 - accuracy: 0.9943 - val_loss: 0.0387 - val_accuracy: 0.9947\n",
      "Epoch 51/100\n",
      "165/165 [==============================] - 0s 1ms/step - loss: 0.0269 - accuracy: 0.9922 - val_loss: 0.0273 - val_accuracy: 0.9917\n",
      "Epoch 52/100\n",
      "165/165 [==============================] - 0s 1ms/step - loss: 0.0201 - accuracy: 0.9941 - val_loss: 0.0335 - val_accuracy: 0.9924\n",
      "Epoch 53/100\n",
      "165/165 [==============================] - 0s 1ms/step - loss: 0.0160 - accuracy: 0.9949 - val_loss: 0.0398 - val_accuracy: 0.9924\n",
      "Epoch 54/100\n",
      "165/165 [==============================] - 0s 1ms/step - loss: 0.0291 - accuracy: 0.9930 - val_loss: 0.0947 - val_accuracy: 0.9652\n",
      "Epoch 55/100\n",
      "165/165 [==============================] - 0s 1ms/step - loss: 0.0207 - accuracy: 0.9943 - val_loss: 0.0328 - val_accuracy: 0.9917\n",
      "Epoch 56/100\n",
      "165/165 [==============================] - 0s 1ms/step - loss: 0.0104 - accuracy: 0.9973 - val_loss: 0.0251 - val_accuracy: 0.9947\n",
      "Epoch 57/100\n",
      "165/165 [==============================] - 0s 1ms/step - loss: 0.0039 - accuracy: 0.9989 - val_loss: 0.0453 - val_accuracy: 0.9924\n"
     ]
    },
    {
     "name": "stdout",
     "output_type": "stream",
     "text": [
      "Epoch 58/100\n",
      "165/165 [==============================] - 0s 1ms/step - loss: 0.0070 - accuracy: 0.9975 - val_loss: 0.0412 - val_accuracy: 0.9939\n",
      "Epoch 59/100\n",
      "165/165 [==============================] - 0s 1ms/step - loss: 0.0248 - accuracy: 0.9928 - val_loss: 0.0253 - val_accuracy: 0.9947\n",
      "Epoch 60/100\n",
      "165/165 [==============================] - 0s 2ms/step - loss: 0.0045 - accuracy: 0.9987 - val_loss: 0.0211 - val_accuracy: 0.9970\n",
      "Epoch 61/100\n",
      "165/165 [==============================] - 0s 2ms/step - loss: 0.0042 - accuracy: 0.9991 - val_loss: 0.0335 - val_accuracy: 0.9962\n",
      "Epoch 62/100\n",
      "165/165 [==============================] - 0s 3ms/step - loss: 0.0301 - accuracy: 0.9932 - val_loss: 0.0307 - val_accuracy: 0.9924\n",
      "Epoch 63/100\n",
      "165/165 [==============================] - 0s 3ms/step - loss: 0.0180 - accuracy: 0.9960 - val_loss: 0.0708 - val_accuracy: 0.9773\n",
      "Epoch 64/100\n",
      "165/165 [==============================] - 0s 2ms/step - loss: 0.0205 - accuracy: 0.9941 - val_loss: 0.1191 - val_accuracy: 0.9803\n",
      "Epoch 65/100\n",
      "165/165 [==============================] - 0s 2ms/step - loss: 0.0165 - accuracy: 0.9964 - val_loss: 0.0315 - val_accuracy: 0.9932\n",
      "Epoch 66/100\n",
      "165/165 [==============================] - 0s 2ms/step - loss: 0.0091 - accuracy: 0.9972 - val_loss: 0.0301 - val_accuracy: 0.9939\n",
      "Epoch 67/100\n",
      "165/165 [==============================] - 0s 2ms/step - loss: 0.0025 - accuracy: 0.9994 - val_loss: 0.0461 - val_accuracy: 0.9917\n",
      "Epoch 68/100\n",
      "165/165 [==============================] - 0s 2ms/step - loss: 0.0064 - accuracy: 0.9979 - val_loss: 0.0355 - val_accuracy: 0.9955\n",
      "Epoch 69/100\n",
      "165/165 [==============================] - 0s 2ms/step - loss: 4.9881e-04 - accuracy: 1.0000 - val_loss: 0.0412 - val_accuracy: 0.9970\n",
      "Epoch 70/100\n",
      "165/165 [==============================] - 0s 1ms/step - loss: 2.7826e-04 - accuracy: 1.0000 - val_loss: 0.0411 - val_accuracy: 0.9970\n",
      "Epoch 71/100\n",
      "165/165 [==============================] - 0s 1ms/step - loss: 4.0212e-04 - accuracy: 1.0000 - val_loss: 0.0433 - val_accuracy: 0.9970\n",
      "Epoch 72/100\n",
      "165/165 [==============================] - 0s 1ms/step - loss: 8.7361e-04 - accuracy: 0.9998 - val_loss: 0.1120 - val_accuracy: 0.9902\n",
      "Epoch 73/100\n",
      "165/165 [==============================] - 0s 1ms/step - loss: 0.0389 - accuracy: 0.9898 - val_loss: 0.0353 - val_accuracy: 0.9917\n",
      "Epoch 74/100\n",
      "165/165 [==============================] - 0s 1ms/step - loss: 0.0097 - accuracy: 0.9966 - val_loss: 0.0583 - val_accuracy: 0.9879\n",
      "Epoch 75/100\n",
      "165/165 [==============================] - 0s 1ms/step - loss: 0.0084 - accuracy: 0.9964 - val_loss: 0.0313 - val_accuracy: 0.9947\n",
      "Epoch 76/100\n",
      "165/165 [==============================] - 0s 1ms/step - loss: 0.0025 - accuracy: 0.9991 - val_loss: 0.0374 - val_accuracy: 0.9939\n",
      "Epoch 77/100\n",
      "165/165 [==============================] - 0s 1ms/step - loss: 0.0038 - accuracy: 0.9989 - val_loss: 0.0453 - val_accuracy: 0.9947\n",
      "Epoch 78/100\n",
      "165/165 [==============================] - 0s 1ms/step - loss: 0.0059 - accuracy: 0.9981 - val_loss: 0.0470 - val_accuracy: 0.9932\n",
      "Epoch 79/100\n",
      "165/165 [==============================] - 0s 1ms/step - loss: 0.0603 - accuracy: 0.9845 - val_loss: 0.0360 - val_accuracy: 0.9886\n",
      "Epoch 80/100\n",
      "165/165 [==============================] - 0s 1ms/step - loss: 0.0107 - accuracy: 0.9970 - val_loss: 0.0482 - val_accuracy: 0.9917\n",
      "Epoch 81/100\n",
      "165/165 [==============================] - 0s 1ms/step - loss: 0.0040 - accuracy: 0.9987 - val_loss: 0.1767 - val_accuracy: 0.9682\n",
      "Epoch 82/100\n",
      "165/165 [==============================] - 0s 1ms/step - loss: 0.0329 - accuracy: 0.9911 - val_loss: 0.0416 - val_accuracy: 0.9917\n",
      "Epoch 83/100\n",
      "165/165 [==============================] - 0s 1ms/step - loss: 0.0189 - accuracy: 0.9955 - val_loss: 0.0426 - val_accuracy: 0.9909\n",
      "Epoch 84/100\n",
      "165/165 [==============================] - 0s 1ms/step - loss: 0.0073 - accuracy: 0.9979 - val_loss: 0.0524 - val_accuracy: 0.9909\n",
      "Epoch 85/100\n",
      "165/165 [==============================] - 0s 1ms/step - loss: 0.0144 - accuracy: 0.9958 - val_loss: 0.0294 - val_accuracy: 0.9955\n",
      "Epoch 86/100\n",
      "165/165 [==============================] - 0s 1ms/step - loss: 0.0123 - accuracy: 0.9977 - val_loss: 0.0243 - val_accuracy: 0.9970\n",
      "Epoch 87/100\n",
      "165/165 [==============================] - 0s 1ms/step - loss: 0.0020 - accuracy: 0.9994 - val_loss: 0.0253 - val_accuracy: 0.9962\n",
      "Epoch 88/100\n",
      "165/165 [==============================] - 0s 2ms/step - loss: 0.0035 - accuracy: 0.9989 - val_loss: 0.0473 - val_accuracy: 0.9902\n",
      "Epoch 89/100\n",
      "165/165 [==============================] - 0s 2ms/step - loss: 0.0133 - accuracy: 0.9981 - val_loss: 0.0229 - val_accuracy: 0.9962\n",
      "Epoch 90/100\n",
      "165/165 [==============================] - 0s 2ms/step - loss: 0.0229 - accuracy: 0.9932 - val_loss: 0.0261 - val_accuracy: 0.9924\n",
      "Epoch 91/100\n",
      "165/165 [==============================] - 0s 2ms/step - loss: 0.0042 - accuracy: 0.9983 - val_loss: 0.0353 - val_accuracy: 0.9909\n",
      "Epoch 92/100\n",
      "165/165 [==============================] - 0s 2ms/step - loss: 0.0054 - accuracy: 0.9979 - val_loss: 0.0309 - val_accuracy: 0.9955\n",
      "Epoch 93/100\n",
      "165/165 [==============================] - 0s 2ms/step - loss: 0.0012 - accuracy: 0.9998 - val_loss: 0.0436 - val_accuracy: 0.9939\n",
      "Epoch 94/100\n",
      "165/165 [==============================] - 0s 2ms/step - loss: 0.0016 - accuracy: 0.9994 - val_loss: 0.0516 - val_accuracy: 0.9924\n",
      "Epoch 95/100\n",
      "165/165 [==============================] - 0s 2ms/step - loss: 0.0232 - accuracy: 0.9943 - val_loss: 0.0238 - val_accuracy: 0.9939\n",
      "Epoch 96/100\n",
      "165/165 [==============================] - 0s 2ms/step - loss: 0.0138 - accuracy: 0.9962 - val_loss: 0.0172 - val_accuracy: 0.9962\n",
      "Epoch 97/100\n",
      "165/165 [==============================] - 0s 1ms/step - loss: 0.0027 - accuracy: 0.9991 - val_loss: 0.0225 - val_accuracy: 0.9977\n",
      "Epoch 98/100\n",
      "165/165 [==============================] - 0s 1ms/step - loss: 0.0026 - accuracy: 0.9994 - val_loss: 0.0177 - val_accuracy: 0.9985\n",
      "Epoch 99/100\n",
      "165/165 [==============================] - 0s 1ms/step - loss: 3.3237e-04 - accuracy: 1.0000 - val_loss: 0.0206 - val_accuracy: 0.9985\n",
      "Epoch 100/100\n",
      "165/165 [==============================] - 0s 1ms/step - loss: 2.9195e-04 - accuracy: 1.0000 - val_loss: 0.0223 - val_accuracy: 0.9977\n"
     ]
    }
   ],
   "source": [
    "history= model.fit(x_train,y_train,epochs = 100, batch_size=32, validation_data=(x_test, y_test))"
   ]
  },
  {
   "cell_type": "code",
   "execution_count": 34,
   "metadata": {},
   "outputs": [],
   "source": [
    "history1= history.history"
   ]
  },
  {
   "cell_type": "code",
   "execution_count": 35,
   "metadata": {},
   "outputs": [
    {
     "data": {
      "image/png": "[encoded data removed]",
      "text/plain": [
       "<Figure size 432x288 with 1 Axes>"
      ]
     },
     "metadata": {
      "needs_background": "light"
     },
     "output_type": "display_data"
    }
   ],
   "source": [
    "%matplotlib inline\n",
    "import matplotlib.pyplot as plt\n",
    "plt.plot(history1[\"val_accuracy\"],label=\"Validation Accuracy\")\n",
    "plt.plot(history1[\"accuracy\"],label=\"Training Accuracy\")\n",
    "plt.title('Training and Validation accuracy')\n",
    "plt.xlabel('Epochs')\n",
    "plt.ylabel('Accuracy')\n",
    "plt.legend()\n",
    "plt.show()"
   ]
  },
  {
   "cell_type": "code",
   "execution_count": 36,
   "metadata": {},
   "outputs": [
    {
     "data": {
      "image/png": "[encoded data removed]",
      "text/plain": [
       "<Figure size 432x288 with 1 Axes>"
      ]
     },
     "metadata": {
      "needs_background": "light"
     },
     "output_type": "display_data"
    }
   ],
   "source": [
    "plt.plot(history1[\"val_loss\"],label=\"Validation loss\")\n",
    "plt.plot(history1[\"loss\"],label=\"Training loss\")\n",
    "plt.legend()\n",
    "plt.xlabel(\"epochs\")\n",
    "plt.ylabel(\"loss\")\n",
    "plt.title('Training and Validation loss')\n",
    "plt.xlabel('Epochs')\n",
    "plt.ylabel('Loss')\n",
    "plt.legend()\n",
    "plt.show()"
   ]
  },
  {
   "cell_type": "code",
   "execution_count": 37,
   "metadata": {},
   "outputs": [
    {
     "name": "stdout",
     "output_type": "stream",
     "text": [
      "165/165 [==============================] - 0s 555us/step - loss: 1.4983e-05 - accuracy: 1.0000\n"
     ]
    },
    {
     "data": {
      "text/plain": [
       "[1.4983450455474667e-05, 1.0]"
      ]
     },
     "execution_count": 37,
     "metadata": {},
     "output_type": "execute_result"
    }
   ],
   "source": [
    "model.evaluate(x_train,y_train)"
   ]
  },
  {
   "cell_type": "code",
   "execution_count": 38,
   "metadata": {},
   "outputs": [
    {
     "name": "stdout",
     "output_type": "stream",
     "text": [
      "[0.022282956168055534, 0.9977272748947144]\n"
     ]
    }
   ],
   "source": [
    "score = model.evaluate(x_test,y_test,verbose=0)\n",
    "print(score)"
   ]
  },
  {
   "cell_type": "code",
   "execution_count": 39,
   "metadata": {},
   "outputs": [
    {
     "name": "stdout",
     "output_type": "stream",
     "text": [
      "f1_score: 0.9930715935334872\n",
      "recall: 0.9953703703703703\n",
      "Validation Loss: 0.022282956168055534\n",
      "Validation Accuracy: 0.9977272748947144\n"
     ]
    }
   ],
   "source": [
    "print(\"f1_score:\",f1_score(y_test,model.predict_classes(x_test),))\n",
    "print(\"recall:\",recall_score(y_test,model.predict_classes(x_test),))\n",
    "print(\"Validation Loss:\",score[0])\n",
    "print(\"Validation Accuracy:\",score[1])"
   ]
  },
  {
   "cell_type": "code",
   "execution_count": 41,
   "metadata": {},
   "outputs": [],
   "source": [
    "#model.save(\"musk classification\")\n",
    "model.save('Musk_classifi.h5')"
   ]
  }
 ],
 "metadata": {
  "kernelspec": {
   "display_name": "Python 3",
   "language": "python",
   "name": "python3"
  },
  "language_info": {
   "codemirror_mode": {
    "name": "ipython",
    "version": 3
   },
   "file_extension": ".py",
   "mimetype": "text/x-python",
   "name": "python",
   "nbconvert_exporter": "python",
   "pygments_lexer": "ipython3",
   "version": "3.7.8"
  }
 },
 "nbformat": 4,
 "nbformat_minor": 4
}
