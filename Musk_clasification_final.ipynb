{
 "cells": [
  {
   "cell_type": "markdown",
   "metadata": {},
   "source": [
    "# MUSK & NON-MUSK CLASSIFICATION"
   ]
  },
  {
   "cell_type": "code",
   "execution_count": 1,
   "metadata": {},
   "outputs": [],
   "source": [
    "import pandas as pd\n",
    "import numpy as np\n",
    "import keras\n",
    "from sklearn.model_selection import train_test_split\n",
    "from keras.models import Sequential\n",
    "from keras.layers import Dense,Dropout\n",
    "from keras.optimizers import Adam\n",
    "from sklearn.metrics import f1_score, precision_score, recall_score"
   ]
  },
  {
   "cell_type": "code",
   "execution_count": 2,
   "metadata": {},
   "outputs": [
    {
     "data": {
      "text/html": [
       "<div>\n",
       "<style scoped>\n",
       "    .dataframe tbody tr th:only-of-type {\n",
       "        vertical-align: middle;\n",
       "    }\n",
       "\n",
       "    .dataframe tbody tr th {\n",
       "        vertical-align: top;\n",
       "    }\n",
       "\n",
       "    .dataframe thead th {\n",
       "        text-align: right;\n",
       "    }\n",
       "</style>\n",
       "<table border=\"1\" class=\"dataframe\">\n",
       "  <thead>\n",
       "    <tr style=\"text-align: right;\">\n",
       "      <th></th>\n",
       "      <th>ID</th>\n",
       "      <th>molecule_name</th>\n",
       "      <th>conformation_name</th>\n",
       "      <th>f1</th>\n",
       "      <th>f2</th>\n",
       "      <th>f3</th>\n",
       "      <th>f4</th>\n",
       "      <th>f5</th>\n",
       "      <th>f6</th>\n",
       "      <th>f7</th>\n",
       "      <th>...</th>\n",
       "      <th>f158</th>\n",
       "      <th>f159</th>\n",
       "      <th>f160</th>\n",
       "      <th>f161</th>\n",
       "      <th>f162</th>\n",
       "      <th>f163</th>\n",
       "      <th>f164</th>\n",
       "      <th>f165</th>\n",
       "      <th>f166</th>\n",
       "      <th>class</th>\n",
       "    </tr>\n",
       "  </thead>\n",
       "  <tbody>\n",
       "    <tr>\n",
       "      <th>0</th>\n",
       "      <td>1</td>\n",
       "      <td>MUSK-211</td>\n",
       "      <td>211_1+1</td>\n",
       "      <td>46</td>\n",
       "      <td>-108</td>\n",
       "      <td>-60</td>\n",
       "      <td>-69</td>\n",
       "      <td>-117</td>\n",
       "      <td>49</td>\n",
       "      <td>38</td>\n",
       "      <td>...</td>\n",
       "      <td>-308</td>\n",
       "      <td>52</td>\n",
       "      <td>-7</td>\n",
       "      <td>39</td>\n",
       "      <td>126</td>\n",
       "      <td>156</td>\n",
       "      <td>-50</td>\n",
       "      <td>-112</td>\n",
       "      <td>96</td>\n",
       "      <td>1</td>\n",
       "    </tr>\n",
       "    <tr>\n",
       "      <th>1</th>\n",
       "      <td>2</td>\n",
       "      <td>MUSK-211</td>\n",
       "      <td>211_1+10</td>\n",
       "      <td>41</td>\n",
       "      <td>-188</td>\n",
       "      <td>-145</td>\n",
       "      <td>22</td>\n",
       "      <td>-117</td>\n",
       "      <td>-6</td>\n",
       "      <td>57</td>\n",
       "      <td>...</td>\n",
       "      <td>-59</td>\n",
       "      <td>-2</td>\n",
       "      <td>52</td>\n",
       "      <td>103</td>\n",
       "      <td>136</td>\n",
       "      <td>169</td>\n",
       "      <td>-61</td>\n",
       "      <td>-136</td>\n",
       "      <td>79</td>\n",
       "      <td>1</td>\n",
       "    </tr>\n",
       "    <tr>\n",
       "      <th>2</th>\n",
       "      <td>3</td>\n",
       "      <td>MUSK-211</td>\n",
       "      <td>211_1+11</td>\n",
       "      <td>46</td>\n",
       "      <td>-194</td>\n",
       "      <td>-145</td>\n",
       "      <td>28</td>\n",
       "      <td>-117</td>\n",
       "      <td>73</td>\n",
       "      <td>57</td>\n",
       "      <td>...</td>\n",
       "      <td>-134</td>\n",
       "      <td>-154</td>\n",
       "      <td>57</td>\n",
       "      <td>143</td>\n",
       "      <td>142</td>\n",
       "      <td>165</td>\n",
       "      <td>-67</td>\n",
       "      <td>-145</td>\n",
       "      <td>39</td>\n",
       "      <td>1</td>\n",
       "    </tr>\n",
       "    <tr>\n",
       "      <th>3</th>\n",
       "      <td>4</td>\n",
       "      <td>MUSK-211</td>\n",
       "      <td>211_1+12</td>\n",
       "      <td>41</td>\n",
       "      <td>-188</td>\n",
       "      <td>-145</td>\n",
       "      <td>22</td>\n",
       "      <td>-117</td>\n",
       "      <td>-7</td>\n",
       "      <td>57</td>\n",
       "      <td>...</td>\n",
       "      <td>-60</td>\n",
       "      <td>-4</td>\n",
       "      <td>52</td>\n",
       "      <td>104</td>\n",
       "      <td>136</td>\n",
       "      <td>168</td>\n",
       "      <td>-60</td>\n",
       "      <td>-135</td>\n",
       "      <td>80</td>\n",
       "      <td>1</td>\n",
       "    </tr>\n",
       "    <tr>\n",
       "      <th>4</th>\n",
       "      <td>5</td>\n",
       "      <td>MUSK-211</td>\n",
       "      <td>211_1+13</td>\n",
       "      <td>41</td>\n",
       "      <td>-188</td>\n",
       "      <td>-145</td>\n",
       "      <td>22</td>\n",
       "      <td>-117</td>\n",
       "      <td>-7</td>\n",
       "      <td>57</td>\n",
       "      <td>...</td>\n",
       "      <td>-60</td>\n",
       "      <td>-4</td>\n",
       "      <td>52</td>\n",
       "      <td>104</td>\n",
       "      <td>137</td>\n",
       "      <td>168</td>\n",
       "      <td>-60</td>\n",
       "      <td>-135</td>\n",
       "      <td>80</td>\n",
       "      <td>1</td>\n",
       "    </tr>\n",
       "  </tbody>\n",
       "</table>\n",
       "<p>5 rows × 170 columns</p>\n",
       "</div>"
      ],
      "text/plain": [
       "   ID molecule_name conformation_name  f1   f2   f3  f4   f5  f6  f7  ...  \\\n",
       "0   1      MUSK-211           211_1+1  46 -108  -60 -69 -117  49  38  ...   \n",
       "1   2      MUSK-211          211_1+10  41 -188 -145  22 -117  -6  57  ...   \n",
       "2   3      MUSK-211          211_1+11  46 -194 -145  28 -117  73  57  ...   \n",
       "3   4      MUSK-211          211_1+12  41 -188 -145  22 -117  -7  57  ...   \n",
       "4   5      MUSK-211          211_1+13  41 -188 -145  22 -117  -7  57  ...   \n",
       "\n",
       "   f158  f159  f160  f161  f162  f163  f164  f165  f166  class  \n",
       "0  -308    52    -7    39   126   156   -50  -112    96      1  \n",
       "1   -59    -2    52   103   136   169   -61  -136    79      1  \n",
       "2  -134  -154    57   143   142   165   -67  -145    39      1  \n",
       "3   -60    -4    52   104   136   168   -60  -135    80      1  \n",
       "4   -60    -4    52   104   137   168   -60  -135    80      1  \n",
       "\n",
       "[5 rows x 170 columns]"
      ]
     },
     "execution_count": 2,
     "metadata": {},
     "output_type": "execute_result"
    }
   ],
   "source": [
    "df = pd.read_csv(\"musk_csv.csv\")\n",
    "df.head()"
   ]
  },
  {
   "cell_type": "code",
   "execution_count": 3,
   "metadata": {},
   "outputs": [
    {
     "data": {
      "text/plain": [
       "(6598, 170)"
      ]
     },
     "execution_count": 3,
     "metadata": {},
     "output_type": "execute_result"
    }
   ],
   "source": [
    "df.shape"
   ]
  },
  {
   "cell_type": "code",
   "execution_count": 4,
   "metadata": {},
   "outputs": [],
   "source": [
    "#df.duplicated().count"
   ]
  },
  {
   "cell_type": "code",
   "execution_count": 5,
   "metadata": {},
   "outputs": [
    {
     "data": {
      "text/plain": [
       "Index(['ID', 'molecule_name', 'conformation_name', 'f1', 'f2', 'f3', 'f4',\n",
       "       'f5', 'f6', 'f7',\n",
       "       ...\n",
       "       'f158', 'f159', 'f160', 'f161', 'f162', 'f163', 'f164', 'f165', 'f166',\n",
       "       'class'],\n",
       "      dtype='object', length=170)"
      ]
     },
     "execution_count": 5,
     "metadata": {},
     "output_type": "execute_result"
    }
   ],
   "source": [
    "df.columns"
   ]
  },
  {
   "cell_type": "code",
   "execution_count": 6,
   "metadata": {},
   "outputs": [
    {
     "data": {
      "text/plain": [
       "0    5581\n",
       "1    1017\n",
       "Name: class, dtype: int64"
      ]
     },
     "execution_count": 6,
     "metadata": {},
     "output_type": "execute_result"
    }
   ],
   "source": [
    "df[\"class\"].value_counts()"
   ]
  },
  {
   "cell_type": "code",
   "execution_count": 7,
   "metadata": {},
   "outputs": [
    {
     "data": {
      "text/html": [
       "<div>\n",
       "<style scoped>\n",
       "    .dataframe tbody tr th:only-of-type {\n",
       "        vertical-align: middle;\n",
       "    }\n",
       "\n",
       "    .dataframe tbody tr th {\n",
       "        vertical-align: top;\n",
       "    }\n",
       "\n",
       "    .dataframe thead th {\n",
       "        text-align: right;\n",
       "    }\n",
       "</style>\n",
       "<table border=\"1\" class=\"dataframe\">\n",
       "  <thead>\n",
       "    <tr style=\"text-align: right;\">\n",
       "      <th></th>\n",
       "      <th>f1</th>\n",
       "      <th>f2</th>\n",
       "      <th>f3</th>\n",
       "      <th>f4</th>\n",
       "      <th>f5</th>\n",
       "      <th>f6</th>\n",
       "      <th>f7</th>\n",
       "      <th>f8</th>\n",
       "      <th>f9</th>\n",
       "      <th>f10</th>\n",
       "      <th>...</th>\n",
       "      <th>f158</th>\n",
       "      <th>f159</th>\n",
       "      <th>f160</th>\n",
       "      <th>f161</th>\n",
       "      <th>f162</th>\n",
       "      <th>f163</th>\n",
       "      <th>f164</th>\n",
       "      <th>f165</th>\n",
       "      <th>f166</th>\n",
       "      <th>class</th>\n",
       "    </tr>\n",
       "  </thead>\n",
       "  <tbody>\n",
       "    <tr>\n",
       "      <th>0</th>\n",
       "      <td>46</td>\n",
       "      <td>-108</td>\n",
       "      <td>-60</td>\n",
       "      <td>-69</td>\n",
       "      <td>-117</td>\n",
       "      <td>49</td>\n",
       "      <td>38</td>\n",
       "      <td>-161</td>\n",
       "      <td>-8</td>\n",
       "      <td>5</td>\n",
       "      <td>...</td>\n",
       "      <td>-308</td>\n",
       "      <td>52</td>\n",
       "      <td>-7</td>\n",
       "      <td>39</td>\n",
       "      <td>126</td>\n",
       "      <td>156</td>\n",
       "      <td>-50</td>\n",
       "      <td>-112</td>\n",
       "      <td>96</td>\n",
       "      <td>1</td>\n",
       "    </tr>\n",
       "    <tr>\n",
       "      <th>1</th>\n",
       "      <td>41</td>\n",
       "      <td>-188</td>\n",
       "      <td>-145</td>\n",
       "      <td>22</td>\n",
       "      <td>-117</td>\n",
       "      <td>-6</td>\n",
       "      <td>57</td>\n",
       "      <td>-171</td>\n",
       "      <td>-39</td>\n",
       "      <td>-100</td>\n",
       "      <td>...</td>\n",
       "      <td>-59</td>\n",
       "      <td>-2</td>\n",
       "      <td>52</td>\n",
       "      <td>103</td>\n",
       "      <td>136</td>\n",
       "      <td>169</td>\n",
       "      <td>-61</td>\n",
       "      <td>-136</td>\n",
       "      <td>79</td>\n",
       "      <td>1</td>\n",
       "    </tr>\n",
       "    <tr>\n",
       "      <th>2</th>\n",
       "      <td>46</td>\n",
       "      <td>-194</td>\n",
       "      <td>-145</td>\n",
       "      <td>28</td>\n",
       "      <td>-117</td>\n",
       "      <td>73</td>\n",
       "      <td>57</td>\n",
       "      <td>-168</td>\n",
       "      <td>-39</td>\n",
       "      <td>-22</td>\n",
       "      <td>...</td>\n",
       "      <td>-134</td>\n",
       "      <td>-154</td>\n",
       "      <td>57</td>\n",
       "      <td>143</td>\n",
       "      <td>142</td>\n",
       "      <td>165</td>\n",
       "      <td>-67</td>\n",
       "      <td>-145</td>\n",
       "      <td>39</td>\n",
       "      <td>1</td>\n",
       "    </tr>\n",
       "    <tr>\n",
       "      <th>3</th>\n",
       "      <td>41</td>\n",
       "      <td>-188</td>\n",
       "      <td>-145</td>\n",
       "      <td>22</td>\n",
       "      <td>-117</td>\n",
       "      <td>-7</td>\n",
       "      <td>57</td>\n",
       "      <td>-170</td>\n",
       "      <td>-39</td>\n",
       "      <td>-99</td>\n",
       "      <td>...</td>\n",
       "      <td>-60</td>\n",
       "      <td>-4</td>\n",
       "      <td>52</td>\n",
       "      <td>104</td>\n",
       "      <td>136</td>\n",
       "      <td>168</td>\n",
       "      <td>-60</td>\n",
       "      <td>-135</td>\n",
       "      <td>80</td>\n",
       "      <td>1</td>\n",
       "    </tr>\n",
       "    <tr>\n",
       "      <th>4</th>\n",
       "      <td>41</td>\n",
       "      <td>-188</td>\n",
       "      <td>-145</td>\n",
       "      <td>22</td>\n",
       "      <td>-117</td>\n",
       "      <td>-7</td>\n",
       "      <td>57</td>\n",
       "      <td>-170</td>\n",
       "      <td>-39</td>\n",
       "      <td>-99</td>\n",
       "      <td>...</td>\n",
       "      <td>-60</td>\n",
       "      <td>-4</td>\n",
       "      <td>52</td>\n",
       "      <td>104</td>\n",
       "      <td>137</td>\n",
       "      <td>168</td>\n",
       "      <td>-60</td>\n",
       "      <td>-135</td>\n",
       "      <td>80</td>\n",
       "      <td>1</td>\n",
       "    </tr>\n",
       "  </tbody>\n",
       "</table>\n",
       "<p>5 rows × 167 columns</p>\n",
       "</div>"
      ],
      "text/plain": [
       "   f1   f2   f3  f4   f5  f6  f7   f8  f9  f10  ...  f158  f159  f160  f161  \\\n",
       "0  46 -108  -60 -69 -117  49  38 -161  -8    5  ...  -308    52    -7    39   \n",
       "1  41 -188 -145  22 -117  -6  57 -171 -39 -100  ...   -59    -2    52   103   \n",
       "2  46 -194 -145  28 -117  73  57 -168 -39  -22  ...  -134  -154    57   143   \n",
       "3  41 -188 -145  22 -117  -7  57 -170 -39  -99  ...   -60    -4    52   104   \n",
       "4  41 -188 -145  22 -117  -7  57 -170 -39  -99  ...   -60    -4    52   104   \n",
       "\n",
       "   f162  f163  f164  f165  f166  class  \n",
       "0   126   156   -50  -112    96      1  \n",
       "1   136   169   -61  -136    79      1  \n",
       "2   142   165   -67  -145    39      1  \n",
       "3   136   168   -60  -135    80      1  \n",
       "4   137   168   -60  -135    80      1  \n",
       "\n",
       "[5 rows x 167 columns]"
      ]
     },
     "execution_count": 7,
     "metadata": {},
     "output_type": "execute_result"
    }
   ],
   "source": [
    "df = df.drop(columns=[\"ID\",\"molecule_name\",\"conformation_name\"])\n",
    "df.head()"
   ]
  },
  {
   "cell_type": "code",
   "execution_count": 8,
   "metadata": {},
   "outputs": [],
   "source": [
    "#df.sample(frac=1)"
   ]
  },
  {
   "cell_type": "code",
   "execution_count": 9,
   "metadata": {},
   "outputs": [],
   "source": [
    "#X = df.drop(\"class\",1)\n",
    "#y = df[\"class\"]\n",
    "\n",
    "X = df.iloc[:,0:166]\n",
    "y = df.iloc[:,166]"
   ]
  },
  {
   "cell_type": "code",
   "execution_count": 10,
   "metadata": {},
   "outputs": [],
   "source": [
    "from sklearn.model_selection import train_test_split\n",
    "x_train,x_test,y_train,y_test = train_test_split(X,y,test_size=0.2)"
   ]
  },
  {
   "cell_type": "markdown",
   "metadata": {},
   "source": [
    "# NEURAL NETWORK"
   ]
  },
  {
   "cell_type": "code",
   "execution_count": 11,
   "metadata": {},
   "outputs": [],
   "source": [
    "model = Sequential()\n",
    "model.add(Dense(128,input_dim = 166,activation =\"relu\"))\n",
    "model.add(Dense(64,activation=\"relu\"))\n",
    "model.add(Dense(32,activation =\"relu\"))\n",
    "model.add(Dropout(.2))\n",
    "model.add(Dense(1,activation = \"sigmoid\"))"
   ]
  },
  {
   "cell_type": "code",
   "execution_count": 12,
   "metadata": {},
   "outputs": [],
   "source": [
    "model.compile(loss = \"binary_crossentropy\",optimizer = \"adam\",metrics=[\"accuracy\"])"
   ]
  },
  {
   "cell_type": "code",
   "execution_count": 13,
   "metadata": {},
   "outputs": [
    {
     "name": "stdout",
     "output_type": "stream",
     "text": [
      "Epoch 1/100\n",
      "165/165 [==============================] - 0s 2ms/step - loss: 4.3391 - accuracy: 0.8331 - val_loss: 0.3991 - val_accuracy: 0.9091\n",
      "Epoch 2/100\n",
      "165/165 [==============================] - 0s 2ms/step - loss: 0.3489 - accuracy: 0.8990 - val_loss: 0.2610 - val_accuracy: 0.9318\n",
      "Epoch 3/100\n",
      "165/165 [==============================] - 0s 1ms/step - loss: 0.2004 - accuracy: 0.9282 - val_loss: 0.1540 - val_accuracy: 0.9371\n",
      "Epoch 4/100\n",
      "165/165 [==============================] - 0s 1ms/step - loss: 0.1455 - accuracy: 0.9392 - val_loss: 0.2055 - val_accuracy: 0.9553\n",
      "Epoch 5/100\n",
      "165/165 [==============================] - 0s 1ms/step - loss: 0.1363 - accuracy: 0.9445 - val_loss: 0.1147 - val_accuracy: 0.9523\n",
      "Epoch 6/100\n",
      "165/165 [==============================] - 0s 1ms/step - loss: 0.1181 - accuracy: 0.9536 - val_loss: 0.1134 - val_accuracy: 0.9576\n",
      "Epoch 7/100\n",
      "165/165 [==============================] - 0s 1ms/step - loss: 0.1125 - accuracy: 0.9572 - val_loss: 0.1115 - val_accuracy: 0.9576\n",
      "Epoch 8/100\n",
      "165/165 [==============================] - 0s 1ms/step - loss: 0.1044 - accuracy: 0.9574 - val_loss: 0.1718 - val_accuracy: 0.9326\n",
      "Epoch 9/100\n",
      "165/165 [==============================] - 0s 1ms/step - loss: 0.0849 - accuracy: 0.9602 - val_loss: 0.0933 - val_accuracy: 0.9644\n",
      "Epoch 10/100\n",
      "165/165 [==============================] - 0s 1ms/step - loss: 0.0765 - accuracy: 0.9661 - val_loss: 0.1028 - val_accuracy: 0.9485\n",
      "Epoch 11/100\n",
      "165/165 [==============================] - 0s 1ms/step - loss: 0.0901 - accuracy: 0.9636 - val_loss: 0.1167 - val_accuracy: 0.9652\n",
      "Epoch 12/100\n",
      "165/165 [==============================] - 0s 1ms/step - loss: 0.0794 - accuracy: 0.9659 - val_loss: 0.0994 - val_accuracy: 0.9644\n",
      "Epoch 13/100\n",
      "165/165 [==============================] - 0s 1ms/step - loss: 0.0711 - accuracy: 0.9693 - val_loss: 0.0795 - val_accuracy: 0.9652\n",
      "Epoch 14/100\n",
      "165/165 [==============================] - 0s 2ms/step - loss: 0.0734 - accuracy: 0.9718 - val_loss: 0.0710 - val_accuracy: 0.9727\n",
      "Epoch 15/100\n",
      "165/165 [==============================] - 0s 2ms/step - loss: 0.0659 - accuracy: 0.9703 - val_loss: 0.1286 - val_accuracy: 0.9644\n",
      "Epoch 16/100\n",
      "165/165 [==============================] - 0s 2ms/step - loss: 0.0704 - accuracy: 0.9685 - val_loss: 0.1025 - val_accuracy: 0.9621\n",
      "Epoch 17/100\n",
      "165/165 [==============================] - 0s 2ms/step - loss: 0.0502 - accuracy: 0.9771 - val_loss: 0.1290 - val_accuracy: 0.9644\n",
      "Epoch 18/100\n",
      "165/165 [==============================] - 0s 2ms/step - loss: 0.1070 - accuracy: 0.9621 - val_loss: 0.1625 - val_accuracy: 0.9576\n",
      "Epoch 19/100\n",
      "165/165 [==============================] - 0s 2ms/step - loss: 0.0770 - accuracy: 0.9689 - val_loss: 0.0682 - val_accuracy: 0.9720\n",
      "Epoch 20/100\n",
      "165/165 [==============================] - 0s 2ms/step - loss: 0.0650 - accuracy: 0.9712 - val_loss: 0.1712 - val_accuracy: 0.9553\n",
      "Epoch 21/100\n",
      "165/165 [==============================] - 0s 2ms/step - loss: 0.0550 - accuracy: 0.9775 - val_loss: 0.0607 - val_accuracy: 0.9742\n",
      "Epoch 22/100\n",
      "165/165 [==============================] - 0s 2ms/step - loss: 0.0451 - accuracy: 0.9805 - val_loss: 0.0520 - val_accuracy: 0.9826\n",
      "Epoch 23/100\n",
      "165/165 [==============================] - 0s 2ms/step - loss: 0.0475 - accuracy: 0.9801 - val_loss: 0.1033 - val_accuracy: 0.9727\n",
      "Epoch 24/100\n",
      "165/165 [==============================] - 0s 1ms/step - loss: 0.0849 - accuracy: 0.9699 - val_loss: 0.1060 - val_accuracy: 0.9720\n",
      "Epoch 25/100\n",
      "165/165 [==============================] - 0s 1ms/step - loss: 0.0540 - accuracy: 0.9795 - val_loss: 0.0387 - val_accuracy: 0.9871\n",
      "Epoch 26/100\n",
      "165/165 [==============================] - 0s 1ms/step - loss: 0.0379 - accuracy: 0.9858 - val_loss: 0.0428 - val_accuracy: 0.9826\n",
      "Epoch 27/100\n",
      "165/165 [==============================] - 0s 1ms/step - loss: 0.0430 - accuracy: 0.9854 - val_loss: 0.0592 - val_accuracy: 0.9735\n",
      "Epoch 28/100\n",
      "165/165 [==============================] - 0s 1ms/step - loss: 0.0469 - accuracy: 0.9826 - val_loss: 0.0956 - val_accuracy: 0.9697\n",
      "Epoch 29/100\n",
      "165/165 [==============================] - 0s 1ms/step - loss: 0.0369 - accuracy: 0.9860 - val_loss: 0.0708 - val_accuracy: 0.9780\n",
      "Epoch 30/100\n",
      "165/165 [==============================] - 0s 1ms/step - loss: 0.0360 - accuracy: 0.9873 - val_loss: 0.0460 - val_accuracy: 0.9879\n",
      "Epoch 31/100\n",
      "165/165 [==============================] - 0s 1ms/step - loss: 0.0602 - accuracy: 0.9820 - val_loss: 0.0516 - val_accuracy: 0.9864\n",
      "Epoch 32/100\n",
      "165/165 [==============================] - 0s 1ms/step - loss: 0.0376 - accuracy: 0.9860 - val_loss: 0.0431 - val_accuracy: 0.9811\n",
      "Epoch 33/100\n",
      "165/165 [==============================] - 0s 1ms/step - loss: 0.0421 - accuracy: 0.9837 - val_loss: 0.0584 - val_accuracy: 0.9780\n",
      "Epoch 34/100\n",
      "165/165 [==============================] - 0s 1ms/step - loss: 0.0286 - accuracy: 0.9892 - val_loss: 0.0378 - val_accuracy: 0.9818\n",
      "Epoch 35/100\n",
      "165/165 [==============================] - 0s 1ms/step - loss: 0.0310 - accuracy: 0.9867 - val_loss: 0.0363 - val_accuracy: 0.9848\n",
      "Epoch 36/100\n",
      "165/165 [==============================] - 0s 1ms/step - loss: 0.0257 - accuracy: 0.9884 - val_loss: 0.0263 - val_accuracy: 0.9924\n",
      "Epoch 37/100\n",
      "165/165 [==============================] - 0s 1ms/step - loss: 0.0255 - accuracy: 0.9915 - val_loss: 0.0819 - val_accuracy: 0.9659\n",
      "Epoch 38/100\n",
      "165/165 [==============================] - 0s 1ms/step - loss: 0.0209 - accuracy: 0.9917 - val_loss: 0.0382 - val_accuracy: 0.9848\n",
      "Epoch 39/100\n",
      "165/165 [==============================] - 0s 1ms/step - loss: 0.0360 - accuracy: 0.9873 - val_loss: 0.0724 - val_accuracy: 0.9780\n",
      "Epoch 40/100\n",
      "165/165 [==============================] - 0s 1ms/step - loss: 0.0270 - accuracy: 0.9892 - val_loss: 0.0247 - val_accuracy: 0.9917\n",
      "Epoch 41/100\n",
      "165/165 [==============================] - 0s 1ms/step - loss: 0.0182 - accuracy: 0.9934 - val_loss: 0.0512 - val_accuracy: 0.9879\n",
      "Epoch 42/100\n",
      "165/165 [==============================] - 0s 2ms/step - loss: 0.0573 - accuracy: 0.9776 - val_loss: 0.0374 - val_accuracy: 0.9856\n",
      "Epoch 43/100\n",
      "165/165 [==============================] - 0s 2ms/step - loss: 0.0402 - accuracy: 0.9867 - val_loss: 0.0245 - val_accuracy: 0.9894\n",
      "Epoch 44/100\n",
      "165/165 [==============================] - 0s 2ms/step - loss: 0.0140 - accuracy: 0.9951 - val_loss: 0.0375 - val_accuracy: 0.9818\n",
      "Epoch 45/100\n",
      "165/165 [==============================] - 0s 2ms/step - loss: 0.0090 - accuracy: 0.9960 - val_loss: 0.0385 - val_accuracy: 0.9886\n",
      "Epoch 46/100\n",
      "165/165 [==============================] - 0s 2ms/step - loss: 0.0162 - accuracy: 0.9932 - val_loss: 0.0553 - val_accuracy: 0.9765\n",
      "Epoch 47/100\n",
      "165/165 [==============================] - 0s 2ms/step - loss: 0.0544 - accuracy: 0.9822 - val_loss: 0.0288 - val_accuracy: 0.9886\n",
      "Epoch 48/100\n",
      "165/165 [==============================] - 0s 2ms/step - loss: 0.0271 - accuracy: 0.9924 - val_loss: 0.1498 - val_accuracy: 0.9614\n",
      "Epoch 49/100\n",
      "165/165 [==============================] - 0s 2ms/step - loss: 0.0303 - accuracy: 0.9900 - val_loss: 0.0143 - val_accuracy: 0.9955\n",
      "Epoch 50/100\n",
      "165/165 [==============================] - 0s 2ms/step - loss: 0.0053 - accuracy: 0.9977 - val_loss: 0.0254 - val_accuracy: 0.9917\n",
      "Epoch 51/100\n",
      "165/165 [==============================] - 0s 2ms/step - loss: 0.0220 - accuracy: 0.9934 - val_loss: 0.0135 - val_accuracy: 0.9955\n",
      "Epoch 52/100\n",
      "165/165 [==============================] - 0s 1ms/step - loss: 0.0184 - accuracy: 0.9936 - val_loss: 0.4866 - val_accuracy: 0.9553\n",
      "Epoch 53/100\n",
      "165/165 [==============================] - 0s 1ms/step - loss: 0.0183 - accuracy: 0.9945 - val_loss: 0.0504 - val_accuracy: 0.9803\n",
      "Epoch 54/100\n",
      "165/165 [==============================] - 0s 1ms/step - loss: 0.0476 - accuracy: 0.9896 - val_loss: 0.0164 - val_accuracy: 0.9932\n",
      "Epoch 55/100\n",
      "165/165 [==============================] - 0s 1ms/step - loss: 0.0145 - accuracy: 0.9956 - val_loss: 0.0256 - val_accuracy: 0.9871\n",
      "Epoch 56/100\n",
      "165/165 [==============================] - 0s 1ms/step - loss: 0.0071 - accuracy: 0.9979 - val_loss: 0.0253 - val_accuracy: 0.9917\n",
      "Epoch 57/100\n",
      "165/165 [==============================] - 0s 1ms/step - loss: 0.0063 - accuracy: 0.9977 - val_loss: 0.0093 - val_accuracy: 0.9947\n"
     ]
    },
    {
     "name": "stdout",
     "output_type": "stream",
     "text": [
      "Epoch 58/100\n",
      "165/165 [==============================] - 0s 1ms/step - loss: 0.0172 - accuracy: 0.9949 - val_loss: 0.0175 - val_accuracy: 0.9917\n",
      "Epoch 59/100\n",
      "165/165 [==============================] - 0s 1ms/step - loss: 0.0034 - accuracy: 0.9992 - val_loss: 0.0065 - val_accuracy: 0.9970\n",
      "Epoch 60/100\n",
      "165/165 [==============================] - 0s 1ms/step - loss: 0.0077 - accuracy: 0.9987 - val_loss: 0.0109 - val_accuracy: 0.9955\n",
      "Epoch 61/100\n",
      "165/165 [==============================] - 0s 1ms/step - loss: 0.0100 - accuracy: 0.9968 - val_loss: 0.0274 - val_accuracy: 0.9856\n",
      "Epoch 62/100\n",
      "165/165 [==============================] - 0s 1ms/step - loss: 0.0155 - accuracy: 0.9951 - val_loss: 0.0909 - val_accuracy: 0.9644\n",
      "Epoch 63/100\n",
      "165/165 [==============================] - 0s 1ms/step - loss: 0.0867 - accuracy: 0.9729 - val_loss: 0.0458 - val_accuracy: 0.9886\n",
      "Epoch 64/100\n",
      "165/165 [==============================] - 0s 2ms/step - loss: 0.0181 - accuracy: 0.9937 - val_loss: 0.0401 - val_accuracy: 0.9886\n",
      "Epoch 65/100\n",
      "165/165 [==============================] - 0s 2ms/step - loss: 0.0126 - accuracy: 0.9955 - val_loss: 0.0107 - val_accuracy: 0.9962\n",
      "Epoch 66/100\n",
      "165/165 [==============================] - 0s 2ms/step - loss: 0.0095 - accuracy: 0.9983 - val_loss: 0.0120 - val_accuracy: 0.9962\n",
      "Epoch 67/100\n",
      "165/165 [==============================] - 0s 2ms/step - loss: 0.0097 - accuracy: 0.9972 - val_loss: 0.0129 - val_accuracy: 0.9947\n",
      "Epoch 68/100\n",
      "165/165 [==============================] - 0s 2ms/step - loss: 0.0149 - accuracy: 0.9962 - val_loss: 0.0253 - val_accuracy: 0.9879\n",
      "Epoch 69/100\n",
      "165/165 [==============================] - 0s 2ms/step - loss: 0.0251 - accuracy: 0.9926 - val_loss: 0.0186 - val_accuracy: 0.9924\n",
      "Epoch 70/100\n",
      "165/165 [==============================] - 0s 2ms/step - loss: 0.0088 - accuracy: 0.9968 - val_loss: 0.0052 - val_accuracy: 0.9970\n",
      "Epoch 71/100\n",
      "165/165 [==============================] - 0s 2ms/step - loss: 0.0133 - accuracy: 0.9956 - val_loss: 0.0349 - val_accuracy: 0.9886\n",
      "Epoch 72/100\n",
      "165/165 [==============================] - 0s 2ms/step - loss: 0.0321 - accuracy: 0.9909 - val_loss: 0.0102 - val_accuracy: 0.9955\n",
      "Epoch 73/100\n",
      "165/165 [==============================] - 0s 2ms/step - loss: 0.0024 - accuracy: 0.9992 - val_loss: 0.0126 - val_accuracy: 0.9955\n",
      "Epoch 74/100\n",
      "165/165 [==============================] - 0s 1ms/step - loss: 0.0016 - accuracy: 0.9994 - val_loss: 0.0084 - val_accuracy: 0.9977\n",
      "Epoch 75/100\n",
      "165/165 [==============================] - 0s 1ms/step - loss: 0.0326 - accuracy: 0.9945 - val_loss: 0.0443 - val_accuracy: 0.9841\n",
      "Epoch 76/100\n",
      "165/165 [==============================] - 0s 1ms/step - loss: 0.0105 - accuracy: 0.9964 - val_loss: 0.0496 - val_accuracy: 0.9909\n",
      "Epoch 77/100\n",
      "165/165 [==============================] - 0s 1ms/step - loss: 0.0152 - accuracy: 0.9949 - val_loss: 0.0088 - val_accuracy: 0.9977\n",
      "Epoch 78/100\n",
      "165/165 [==============================] - 0s 1ms/step - loss: 0.0133 - accuracy: 0.9956 - val_loss: 0.0211 - val_accuracy: 0.9917\n",
      "Epoch 79/100\n",
      "165/165 [==============================] - 0s 1ms/step - loss: 0.0102 - accuracy: 0.9958 - val_loss: 0.0322 - val_accuracy: 0.9894\n",
      "Epoch 80/100\n",
      "165/165 [==============================] - 0s 1ms/step - loss: 0.0093 - accuracy: 0.9962 - val_loss: 0.0096 - val_accuracy: 0.9947\n",
      "Epoch 81/100\n",
      "165/165 [==============================] - 0s 1ms/step - loss: 0.0056 - accuracy: 0.9977 - val_loss: 0.0157 - val_accuracy: 0.9924\n",
      "Epoch 82/100\n",
      "165/165 [==============================] - 0s 1ms/step - loss: 0.0010 - accuracy: 0.9998 - val_loss: 0.0032 - val_accuracy: 0.9992\n",
      "Epoch 83/100\n",
      "165/165 [==============================] - 0s 1ms/step - loss: 0.0058 - accuracy: 0.9977 - val_loss: 0.0525 - val_accuracy: 0.9902\n",
      "Epoch 84/100\n",
      "165/165 [==============================] - 0s 1ms/step - loss: 0.0014 - accuracy: 0.9998 - val_loss: 0.0049 - val_accuracy: 0.9985\n",
      "Epoch 85/100\n",
      "165/165 [==============================] - 0s 1ms/step - loss: 0.0205 - accuracy: 0.9947 - val_loss: 0.0175 - val_accuracy: 0.9924\n",
      "Epoch 86/100\n",
      "165/165 [==============================] - 0s 1ms/step - loss: 0.0073 - accuracy: 0.9973 - val_loss: 0.0041 - val_accuracy: 0.9985\n",
      "Epoch 87/100\n",
      "165/165 [==============================] - 0s 2ms/step - loss: 7.5316e-04 - accuracy: 1.0000 - val_loss: 0.0032 - val_accuracy: 0.9992\n",
      "Epoch 88/100\n",
      "165/165 [==============================] - 0s 2ms/step - loss: 0.0080 - accuracy: 0.9972 - val_loss: 0.0128 - val_accuracy: 0.9955\n",
      "Epoch 89/100\n",
      "165/165 [==============================] - 0s 2ms/step - loss: 0.0018 - accuracy: 0.9994 - val_loss: 0.0061 - val_accuracy: 0.9970\n",
      "Epoch 90/100\n",
      "165/165 [==============================] - 0s 2ms/step - loss: 3.0209e-04 - accuracy: 1.0000 - val_loss: 0.0037 - val_accuracy: 0.9985\n",
      "Epoch 91/100\n",
      "165/165 [==============================] - 0s 2ms/step - loss: 7.5276e-05 - accuracy: 1.0000 - val_loss: 0.0051 - val_accuracy: 0.9962\n",
      "Epoch 92/100\n",
      "165/165 [==============================] - 0s 2ms/step - loss: 4.4317e-05 - accuracy: 1.0000 - val_loss: 0.0036 - val_accuracy: 0.9985\n",
      "Epoch 93/100\n",
      "165/165 [==============================] - 0s 2ms/step - loss: 0.0474 - accuracy: 0.9909 - val_loss: 0.0986 - val_accuracy: 0.9606\n",
      "Epoch 94/100\n",
      "165/165 [==============================] - 0s 2ms/step - loss: 0.0285 - accuracy: 0.9900 - val_loss: 0.0497 - val_accuracy: 0.9765\n",
      "Epoch 95/100\n",
      "165/165 [==============================] - 0s 2ms/step - loss: 0.0276 - accuracy: 0.9905 - val_loss: 0.0116 - val_accuracy: 0.9947\n",
      "Epoch 96/100\n",
      "165/165 [==============================] - 0s 1ms/step - loss: 0.0132 - accuracy: 0.9958 - val_loss: 0.0072 - val_accuracy: 0.9970\n",
      "Epoch 97/100\n",
      "165/165 [==============================] - 0s 1ms/step - loss: 0.0106 - accuracy: 0.9972 - val_loss: 0.0087 - val_accuracy: 0.9970\n",
      "Epoch 98/100\n",
      "165/165 [==============================] - 0s 1ms/step - loss: 0.0017 - accuracy: 0.9992 - val_loss: 0.0058 - val_accuracy: 0.9970\n",
      "Epoch 99/100\n",
      "165/165 [==============================] - 0s 1ms/step - loss: 0.0026 - accuracy: 0.9991 - val_loss: 0.0108 - val_accuracy: 0.9970\n",
      "Epoch 100/100\n",
      "165/165 [==============================] - 0s 1ms/step - loss: 0.0010 - accuracy: 0.9996 - val_loss: 0.0103 - val_accuracy: 0.9962\n"
     ]
    }
   ],
   "source": [
    "history= model.fit(x_train,y_train,epochs = 100, batch_size=32, validation_data=(x_test, y_test))"
   ]
  },
  {
   "cell_type": "code",
   "execution_count": 14,
   "metadata": {},
   "outputs": [],
   "source": [
    "history1= history.history"
   ]
  },
  {
   "cell_type": "code",
   "execution_count": 15,
   "metadata": {},
   "outputs": [
    {
     "data": {
      "image/png": "[encoded data removed]",
      "text/plain": [
       "<Figure size 432x288 with 1 Axes>"
      ]
     },
     "metadata": {
      "needs_background": "light"
     },
     "output_type": "display_data"
    }
   ],
   "source": [
    "%matplotlib inline\n",
    "import matplotlib.pyplot as plt\n",
    "plt.plot(history1[\"val_accuracy\"],label=\"Validation Accuracy\")\n",
    "plt.plot(history1[\"accuracy\"],label=\"Training Accuracy\")\n",
    "plt.title('Training and Validation accuracy')\n",
    "plt.xlabel('Epochs')\n",
    "plt.ylabel('Accuracy')\n",
    "plt.legend()\n",
    "plt.show()"
   ]
  },
  {
   "cell_type": "code",
   "execution_count": 16,
   "metadata": {},
   "outputs": [
    {
     "data": {
      "image/png": "[encoded data removed]",
      "text/plain": [
       "<Figure size 432x288 with 1 Axes>"
      ]
     },
     "metadata": {
      "needs_background": "light"
     },
     "output_type": "display_data"
    }
   ],
   "source": [
    "plt.plot(history1[\"val_loss\"],label=\"Validation loss\")\n",
    "plt.plot(history1[\"loss\"],label=\"Training loss\")\n",
    "plt.legend()\n",
    "plt.xlabel(\"epochs\")\n",
    "plt.ylabel(\"loss\")\n",
    "plt.title('Training and Validation loss')\n",
    "plt.xlabel('Epochs')\n",
    "plt.ylabel('Loss')\n",
    "plt.legend()\n",
    "plt.show()"
   ]
  },
  {
   "cell_type": "code",
   "execution_count": 17,
   "metadata": {},
   "outputs": [
    {
     "name": "stdout",
     "output_type": "stream",
     "text": [
      "165/165 [==============================] - 0s 714us/step - loss: 0.0023 - accuracy: 0.9994\n"
     ]
    },
    {
     "data": {
      "text/plain": [
       "[0.002326218644157052, 0.9994316101074219]"
      ]
     },
     "execution_count": 17,
     "metadata": {},
     "output_type": "execute_result"
    }
   ],
   "source": [
    "model.evaluate(x_train,y_train)"
   ]
  },
  {
   "cell_type": "code",
   "execution_count": 18,
   "metadata": {},
   "outputs": [
    {
     "name": "stdout",
     "output_type": "stream",
     "text": [
      "[0.010287456214427948, 0.9962121248245239]\n"
     ]
    }
   ],
   "source": [
    "score = model.evaluate(x_test,y_test,verbose=0)\n",
    "print(score)"
   ]
  },
  {
   "cell_type": "code",
   "execution_count": 19,
   "metadata": {},
   "outputs": [
    {
     "name": "stdout",
     "output_type": "stream",
     "text": [
      "WARNING:tensorflow:From <ipython-input-19-1a7915eb19e4>:1: Sequential.predict_classes (from tensorflow.python.keras.engine.sequential) is deprecated and will be removed after 2021-01-01.\n",
      "Instructions for updating:\n",
      "Please use instead:* `np.argmax(model.predict(x), axis=-1)`,   if your model does multi-class classification   (e.g. if it uses a `softmax` last-layer activation).* `(model.predict(x) > 0.5).astype(\"int32\")`,   if your model does binary classification   (e.g. if it uses a `sigmoid` last-layer activation).\n",
      "f1_score: 0.9875930521091811\n",
      "precision 0.995\n",
      "recall: 0.9802955665024631\n",
      "Validation Loss: 0.010287456214427948\n",
      "Validation Accuracy: 0.9962121248245239\n"
     ]
    }
   ],
   "source": [
    "print(\"f1_score:\",f1_score(y_test,model.predict_classes(x_test),))\n",
    "print(\"precision\",precision_score(y_test,model.predict_classes(x_test),))\n",
    "print(\"recall:\",recall_score(y_test,model.predict_classes(x_test),))\n",
    "print(\"Validation Loss:\",score[0])\n",
    "print(\"Validation Accuracy:\",score[1])"
   ]
  },
  {
   "cell_type": "code",
   "execution_count": 20,
   "metadata": {},
   "outputs": [],
   "source": [
    "#model.save(\"musk classification\")\n",
    "model.save('Musk_Class.h5')"
   ]
  }
 ],
 "metadata": {
  "kernelspec": {
   "display_name": "Python 3",
   "language": "python",
   "name": "python3"
  },
  "language_info": {
   "codemirror_mode": {
    "name": "ipython",
    "version": 3
   },
   "file_extension": ".py",
   "mimetype": "text/x-python",
   "name": "python",
   "nbconvert_exporter": "python",
   "pygments_lexer": "ipython3",
   "version": "3.7.8"
  }
 },
 "nbformat": 4,
 "nbformat_minor": 4
}
